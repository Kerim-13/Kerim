{
 "cells": [
  {
   "cell_type": "code",
   "execution_count": 3,
   "metadata": {},
   "outputs": [],
   "source": [
    "import numpy as np\n",
    "row = 2**13\n",
    "col = 2**13\n",
    "\n",
    "mapping = (np.random.rand(row, col) >= 0.6)/1\n",
    "f = open(\"1024x1024.txt\", \"w\")\n",
    "\n",
    "for i in range(row):\n",
    "    \n",
    "    for j in range(col):\n",
    "        if(mapping[i][j] == 1):\n",
    "            f.write('*')\n",
    "        else:\n",
    "            f.write('-')\n",
    "            \n",
    "    f.write('\\n')        \n",
    "    \n",
    "f.close()\n",
    "    "
   ]
  },
  {
   "cell_type": "code",
   "execution_count": null,
   "metadata": {},
   "outputs": [],
   "source": []
  }
 ],
 "metadata": {
  "kernelspec": {
   "display_name": "Python 3",
   "language": "python",
   "name": "python3"
  },
  "language_info": {
   "codemirror_mode": {
    "name": "ipython",
    "version": 3
   },
   "file_extension": ".py",
   "mimetype": "text/x-python",
   "name": "python",
   "nbconvert_exporter": "python",
   "pygments_lexer": "ipython3",
   "version": "3.8.5"
  }
 },
 "nbformat": 4,
 "nbformat_minor": 4
}
